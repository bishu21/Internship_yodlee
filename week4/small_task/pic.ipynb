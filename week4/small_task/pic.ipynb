{
 "cells": [
  {
   "cell_type": "code",
   "execution_count": null,
   "metadata": {},
   "outputs": [],
   "source": [
    "import pickle_test"
   ]
  },
  {
   "cell_type": "code",
   "execution_count": 2,
   "metadata": {},
   "outputs": [
    {
     "name": "stdout",
     "output_type": "stream",
     "text": [
      "                                  tok_description           merchant_name  \\\n",
      "0                      party supplies murrieta ca       #1 PARTY SUPPLIES   \n",
      "1                      party supplies murrieta ca        1 PARTY SUPPLIES   \n",
      "2               #anna's italian restau hampton va  #ANNA'S ITALIAN RESTAU   \n",
      "3                           #sd city college food   #SD CITY COLLEGE FOOD   \n",
      "4  debit card purchase 0p dry clean woodbridge va         $1.99 DRY CLEAN   \n",
      "\n",
      "              yodlee_name                               description_unmasked  \\\n",
      "0       #1 PARTY SUPPLIES           #1 PARTY SUPPLIES MURRIETA CA 8000000000   \n",
      "1        1 PARTY SUPPLIES           #1 PARTY SUPPLIES MURRIETA CA 8000000000   \n",
      "2  #ANNA'S ITALIAN RESTAU                  #ANNA'S ITALIAN RESTAU HAMPTON VA   \n",
      "3   #SD CITY COLLEGE FOOD                              #SD CITY COLLEGE FOOD   \n",
      "4         $1.99 DRY CLEAN  DEBIT CARD PURCHASE 09/28 03:54P #7751$1.99 DR...   \n",
      "\n",
      "                                        tag_sequence  \n",
      "0  <store_id> <vendor_name> <vendor_name> <city> ...  \n",
      "1  <store_id> <vendor_name> <vendor_name> <city> ...  \n",
      "2  <vendor_name> <vendor_name> <vendor_name> <cit...  \n",
      "3  <vendor_name> <vendor_name> <vendor_name> <ven...  \n",
      "4  <pymt_type> <pymt_type> <pymt_type> <trans_dat...  \n"
     ]
    }
   ],
   "source": [
    "from pickle_test import example_dict"
   ]
  },
  {
   "cell_type": "code",
   "execution_count": 3,
   "metadata": {},
   "outputs": [
    {
     "data": {
      "text/plain": [
       "0                   #1 PARTY SUPPLIES MURRIETA CA 8000000000\n",
       "1                   #1 PARTY SUPPLIES MURRIETA CA 8000000000\n",
       "2                          #ANNA'S ITALIAN RESTAU HAMPTON VA\n",
       "3                                      #SD CITY COLLEGE FOOD\n",
       "4          DEBIT CARD PURCHASE 09/28 03:54P #7751$1.99 DR...\n",
       "5                               $5 JEWELRY SALE SEBASTIAN FL\n",
       "6          & PIZZA DCA ARLINGTON VA~~08888~~5109820611810...\n",
       "7          & PIZZA DCA ARLINGTON VA~~08888~~5109820611810...\n",
       "8                     'OHANA LAKE BUENA 330140309 RESTAURANT\n",
       "9               'T KELDERKE BRUXELLES 45348265241 RESTAURANT\n",
       "10                                          TWEEN WATERS INN\n",
       "11                                   TWEEN WATERS RESTAURANT\n",
       "12                                 02 FITNESS 910-2391202 NC\n",
       "13                                            #WWW.1AND1.COM\n",
       "14                             #WWW.1AND1.COM 877-4612631 PA\n",
       "15         WWW.1AND1.COM - TEL8774612631, PA REFERENCE NU...\n",
       "16         CHECKCARD 0617 WWW.1AND1.COM 06105601589 PA 55...\n",
       "17         SIGNATURE POS DEBIT 0602 PA 06105601589 WWW.1A...\n",
       "18                  PURCHASE - WWW.1AND1.COM TEL8774612631PA\n",
       "19                   PURCHASE - WWW.1AND1.COM 06105601589 PA\n",
       "20         REVERSAL OF OVERDRAFT FEE FOR A TRANSACTION PO...\n",
       "21                             WWW.1AND1.COM TEL8774612631PA\n",
       "22           WWW.1AND1.COM TEL8774612631 XXXX-XXXX-XXXX-5000\n",
       "23         WWW.1AND1.COM TEL8774612631 PAWWW.1AND1.COM TE...\n",
       "24         WWW.1AND1.COM TEL8774612631 PA - COMPUTER NETW...\n",
       "25         WWW.1AND1.COM TEL8774612631 PA 19087 USA - COM...\n",
       "26                     WWW.1AND1.COM TEL8774612631 PA CREDIT\n",
       "27         EXT CREDIT CARD DEBIT WWW.1AND1.COM 877-461263...\n",
       "28         PARTIAL REVERSAL OF OVERDRAFT FEE FOR A TRANSA...\n",
       "29                             WWW.1AND1.COM TELXXXXXX2631PA\n",
       "                                 ...                        \n",
       "4609203    POS PURCHASE POS PURCHASE                     ...\n",
       "4609204    POS PURCHASE          POS00312633  3018305    ...\n",
       "4609205    POS PURCHASE          POS00312633  7324234    ...\n",
       "4609206    POS PURCHASE WITH PIN SCOTT'S # 929 S. 13TH DE...\n",
       "4609207                          POS W/D PAK N SAVE RO-10:39\n",
       "4609208                          POS W/D PAK N SAVE SY-15:10\n",
       "4609209    POS WITHDRAWAL (ELN) IM *IMPROVEMENTS IM *IMPR...\n",
       "4609210    POSTMATES LIME FRESH HTTPSPOSTMATE CA 01/27 DE...\n",
       "4609211    PURCHASE (DEBIT PURCHASE AISLE 1 #352 GALT 121...\n",
       "4609212    PURCHASE AUTHORIZED ON 12/15 GOLF GALAXY #3210...\n",
       "4609213    PURCHASE AUTHORIZED ON 12/14 GOLF GALAXY 3121 ...\n",
       "4609214    PURCHASE AUTHORIZED ON 12/28 LUCKY #761 SAN JO...\n",
       "4609215         PURCHASE BEL AIR #522 GOLD RIVER CA CARD2818\n",
       "4609216        PURCHASE GOLFGALAXY.C 800-2879060 PA CARD9936\n",
       "4609217           PURCHASE LUCKY #720.L LARKSPUR CA CARD8088\n",
       "4609218    PURCHASE LUCKY #700ALAMEDA CA,LUCKY #700ALAMED...\n",
       "4609219    PURCHASE MADE ON 01/06/18 AT DOORDASH-LIME FRE...\n",
       "4609220    PURCHASE MADE ON 01/03/18 AT LIME FRESH MEXICA...\n",
       "4609221    PURCHASE ON  01/02 AT LUCKY #744.PLEA - PLEASA...\n",
       "4609222    PURCHASE WITH CASH BACK $ 20.00 AUTHORIZED ON ...\n",
       "4609223    PURCHASE WITH CASH BACK        $  50.00 AUTHOR...\n",
       "4609224    PURCHASE WITH CASH BACK $ 200.00 AUTHORIZED ON...\n",
       "4609225    SCOTT'S # 7008 BLUFFTO FORT WAYNE IN 03/20 DEB...\n",
       "4609226    SCOTT'S #4107008 BLUFFTONFORT WAYNE   IN~~0888...\n",
       "4609227    SCOTT'S HALLMARK SHOP GLENS FALLS NY 02/10 DEB...\n",
       "4609228    SY8 GOLF GALAX  09/17 #000011862 PURCHASE     ...\n",
       "4609229    SY8 GOLF GALAXY # 24 SALT LAKE CIT UT022439 02/09\n",
       "4609230    WITHDRAW - POS 1229 1919 267757 LUCKY #222 SAN...\n",
       "4609231    WITHDRAWAL #808700503984 SCOTT'S #424 10230 CH...\n",
       "4609232    XX9232 PIN PURCHASE BERGNERS #0563 5203 W WPEO...\n",
       "Name: description_unmasked, Length: 4609233, dtype: object"
      ]
     },
     "execution_count": 3,
     "metadata": {},
     "output_type": "execute_result"
    }
   ],
   "source": [
    "example_dict['description_unmasked']"
   ]
  },
  {
   "cell_type": "code",
   "execution_count": 4,
   "metadata": {},
   "outputs": [],
   "source": [
    "def get_ygst_desc(row):\n",
    "\n",
    "    digits = re.compile(\"\\d\")\n",
    "\n",
    "    def tokenizer(desc):\n",
    "\n",
    "        return digits.sub(\"0\", \"\".join(desc.lower()))\n",
    "\n",
    " \n",
    "\n",
    "    variant_str = tokenizer(row)\n",
    "\n",
    "    variant_str = re.sub(' +',' ',variant_str)\n",
    "\n",
    "    return variant_str"
   ]
  },
  {
   "cell_type": "code",
   "execution_count": 209,
   "metadata": {},
   "outputs": [],
   "source": [
    "new_df=example_dict.filter(items=['tag_sequence', 'description_unmasked','yodlee_name'])"
   ]
  },
  {
   "cell_type": "code",
   "execution_count": 1,
   "metadata": {},
   "outputs": [
    {
     "ename": "NameError",
     "evalue": "name 'new_df' is not defined",
     "output_type": "error",
     "traceback": [
      "\u001b[0;31m---------------------------------------------------------------------------\u001b[0m",
      "\u001b[0;31mNameError\u001b[0m                                 Traceback (most recent call last)",
      "\u001b[0;32m<ipython-input-1-41ee4619492c>\u001b[0m in \u001b[0;36m<module>\u001b[0;34m()\u001b[0m\n\u001b[0;32m----> 1\u001b[0;31m \u001b[0mnew_df\u001b[0m\u001b[0;34m=\u001b[0m\u001b[0mnew_df\u001b[0m\u001b[0;34m[\u001b[0m\u001b[0;34m:\u001b[0m\u001b[0;36m20\u001b[0m\u001b[0;34m]\u001b[0m\u001b[0;34m\u001b[0m\u001b[0m\n\u001b[0m\u001b[1;32m      2\u001b[0m \u001b[0;31m#new_df.to_excel(\"after_given_funxtion.xlsx\")\u001b[0m\u001b[0;34m\u001b[0m\u001b[0;34m\u001b[0m\u001b[0m\n\u001b[1;32m      3\u001b[0m \u001b[0;32mimport\u001b[0m \u001b[0mre\u001b[0m\u001b[0;34m\u001b[0m\u001b[0m\n\u001b[1;32m      4\u001b[0m \u001b[0mnew_df\u001b[0m\u001b[0;34m\u001b[0m\u001b[0m\n",
      "\u001b[0;31mNameError\u001b[0m: name 'new_df' is not defined"
     ]
    }
   ],
   "source": [
    "new_df=new_df[:20]\n",
    "#new_df.to_excel(\"after_given_funxtion.xlsx\")\n",
    "import re\n",
    "new_df"
   ]
  },
  {
   "cell_type": "code",
   "execution_count": 4,
   "metadata": {
    "scrolled": true
   },
   "outputs": [
    {
     "ename": "NameError",
     "evalue": "name 'new_df' is not defined",
     "output_type": "error",
     "traceback": [
      "\u001b[0;31m---------------------------------------------------------------------------\u001b[0m",
      "\u001b[0;31mNameError\u001b[0m                                 Traceback (most recent call last)",
      "\u001b[0;32m<ipython-input-4-b356db0d117b>\u001b[0m in \u001b[0;36m<module>\u001b[0;34m()\u001b[0m\n\u001b[0;32m----> 1\u001b[0;31m \u001b[0mnew_df\u001b[0m\u001b[0;34m[\u001b[0m\u001b[0;34m'ysgt'\u001b[0m\u001b[0;34m]\u001b[0m \u001b[0;34m=\u001b[0m\u001b[0mnew_df\u001b[0m\u001b[0;34m[\u001b[0m\u001b[0;34m'description_unmasked'\u001b[0m\u001b[0;34m]\u001b[0m\u001b[0;34m.\u001b[0m\u001b[0mapply\u001b[0m\u001b[0;34m(\u001b[0m\u001b[0;32mlambda\u001b[0m \u001b[0mx\u001b[0m\u001b[0;34m:\u001b[0m\u001b[0mget_ygst_desc\u001b[0m\u001b[0;34m(\u001b[0m\u001b[0mx\u001b[0m\u001b[0;34m)\u001b[0m\u001b[0;34m)\u001b[0m\u001b[0;34m\u001b[0m\u001b[0m\n\u001b[0m\u001b[1;32m      2\u001b[0m \u001b[0mnew_df\u001b[0m\u001b[0;34m\u001b[0m\u001b[0m\n",
      "\u001b[0;31mNameError\u001b[0m: name 'new_df' is not defined"
     ]
    }
   ],
   "source": [
    "new_df['ysgt'] =new_df['description_unmasked'].apply(lambda x:get_ygst_desc(x))\n",
    "new_df"
   ]
  },
  {
   "cell_type": "code",
   "execution_count": 2,
   "metadata": {},
   "outputs": [
    {
     "ename": "NameError",
     "evalue": "name 'new_df' is not defined",
     "output_type": "error",
     "traceback": [
      "\u001b[0;31m---------------------------------------------------------------------------\u001b[0m",
      "\u001b[0;31mNameError\u001b[0m                                 Traceback (most recent call last)",
      "\u001b[0;32m<ipython-input-2-4722d130d1fe>\u001b[0m in \u001b[0;36m<module>\u001b[0;34m()\u001b[0m\n\u001b[0;32m----> 1\u001b[0;31m \u001b[0mnew_df\u001b[0m\u001b[0;34m[\u001b[0m\u001b[0;34m'tag_sequence'\u001b[0m\u001b[0;34m]\u001b[0m\u001b[0;34m[\u001b[0m\u001b[0;36m15\u001b[0m\u001b[0;34m]\u001b[0m\u001b[0;34m\u001b[0m\u001b[0m\n\u001b[0m",
      "\u001b[0;31mNameError\u001b[0m: name 'new_df' is not defined"
     ]
    }
   ],
   "source": [
    "new_df['tag_sequence'][15]"
   ]
  },
  {
   "cell_type": "code",
   "execution_count": 3,
   "metadata": {},
   "outputs": [
    {
     "ename": "NameError",
     "evalue": "name 'new_df' is not defined",
     "output_type": "error",
     "traceback": [
      "\u001b[0;31m---------------------------------------------------------------------------\u001b[0m",
      "\u001b[0;31mNameError\u001b[0m                                 Traceback (most recent call last)",
      "\u001b[0;32m<ipython-input-3-18290e59bcf0>\u001b[0m in \u001b[0;36m<module>\u001b[0;34m()\u001b[0m\n\u001b[0;32m----> 1\u001b[0;31m \u001b[0mnew_df\u001b[0m\u001b[0;34m[\u001b[0m\u001b[0;34m'ysgt'\u001b[0m\u001b[0;34m]\u001b[0m\u001b[0;34m[\u001b[0m\u001b[0;36m15\u001b[0m\u001b[0;34m]\u001b[0m\u001b[0;34m\u001b[0m\u001b[0m\n\u001b[0m",
      "\u001b[0;31mNameError\u001b[0m: name 'new_df' is not defined"
     ]
    }
   ],
   "source": [
    "new_df['ysgt'][15]"
   ]
  },
  {
   "cell_type": "code",
   "execution_count": 219,
   "metadata": {
    "scrolled": true
   },
   "outputs": [
    {
     "data": {
      "text/html": [
       "<div>\n",
       "<style scoped>\n",
       "    .dataframe tbody tr th:only-of-type {\n",
       "        vertical-align: middle;\n",
       "    }\n",
       "\n",
       "    .dataframe tbody tr th {\n",
       "        vertical-align: top;\n",
       "    }\n",
       "\n",
       "    .dataframe thead th {\n",
       "        text-align: right;\n",
       "    }\n",
       "</style>\n",
       "<table border=\"1\" class=\"dataframe\">\n",
       "  <thead>\n",
       "    <tr style=\"text-align: right;\">\n",
       "      <th></th>\n",
       "      <th>tag_sequence</th>\n",
       "      <th>description_unmasked</th>\n",
       "      <th>yodlee_name</th>\n",
       "      <th>ysgt</th>\n",
       "    </tr>\n",
       "  </thead>\n",
       "  <tbody>\n",
       "    <tr>\n",
       "      <th>0</th>\n",
       "      <td>&lt;store_id&gt; &lt;vendor_name&gt; &lt;vendor_name&gt; &lt;city&gt; ...</td>\n",
       "      <td>#1 PARTY SUPPLIES MURRIETA CA 8000000000</td>\n",
       "      <td>#1 PARTY SUPPLIES</td>\n",
       "      <td>#0 party supplies murrieta ca 0000000000</td>\n",
       "    </tr>\n",
       "    <tr>\n",
       "      <th>1</th>\n",
       "      <td>&lt;store_id&gt; &lt;vendor_name&gt; &lt;vendor_name&gt; &lt;city&gt; ...</td>\n",
       "      <td>#1 PARTY SUPPLIES MURRIETA CA 8000000000</td>\n",
       "      <td>1 PARTY SUPPLIES</td>\n",
       "      <td>#0 party supplies murrieta ca 0000000000</td>\n",
       "    </tr>\n",
       "    <tr>\n",
       "      <th>2</th>\n",
       "      <td>&lt;vendor_name&gt; &lt;vendor_name&gt; &lt;vendor_name&gt; &lt;cit...</td>\n",
       "      <td>#ANNA'S ITALIAN RESTAU HAMPTON VA</td>\n",
       "      <td>#ANNA'S ITALIAN RESTAU</td>\n",
       "      <td>#anna's italian restau hampton va</td>\n",
       "    </tr>\n",
       "    <tr>\n",
       "      <th>3</th>\n",
       "      <td>&lt;vendor_name&gt; &lt;vendor_name&gt; &lt;vendor_name&gt; &lt;ven...</td>\n",
       "      <td>#SD CITY COLLEGE FOOD</td>\n",
       "      <td>#SD CITY COLLEGE FOOD</td>\n",
       "      <td>#sd city college food</td>\n",
       "    </tr>\n",
       "    <tr>\n",
       "      <th>4</th>\n",
       "      <td>&lt;pymt_type&gt; &lt;pymt_type&gt; &lt;pymt_type&gt; &lt;trans_dat...</td>\n",
       "      <td>DEBIT CARD PURCHASE 09/28 03:54P #7751$1.99 DR...</td>\n",
       "      <td>$1.99 DRY CLEAN</td>\n",
       "      <td>debit card purchase 00/00 00:00p #0000$0.00 dr...</td>\n",
       "    </tr>\n",
       "    <tr>\n",
       "      <th>5</th>\n",
       "      <td>&lt;vendor_name&gt; &lt;vendor_name&gt; &lt;vendor_name&gt; &lt;cit...</td>\n",
       "      <td>$5 JEWELRY SALE SEBASTIAN FL</td>\n",
       "      <td>$5 JEWELRY</td>\n",
       "      <td>$0 jewelry sale sebastian fl</td>\n",
       "    </tr>\n",
       "    <tr>\n",
       "      <th>8</th>\n",
       "      <td>&lt;vendor_name&gt; &lt;city&gt; &lt;city&gt; &lt;unidentified&gt; &lt;tr...</td>\n",
       "      <td>'OHANA LAKE BUENA 330140309 RESTAURANT</td>\n",
       "      <td>'OHANA</td>\n",
       "      <td>'ohana lake buena 000000000 restaurant</td>\n",
       "    </tr>\n",
       "    <tr>\n",
       "      <th>9</th>\n",
       "      <td>&lt;vendor_name&gt; &lt;vendor_name&gt; &lt;city&gt; &lt;unidentifi...</td>\n",
       "      <td>'T KELDERKE BRUXELLES 45348265241 RESTAURANT</td>\n",
       "      <td>'T KELDERKE</td>\n",
       "      <td>'t kelderke bruxelles 00000000000 restaurant</td>\n",
       "    </tr>\n",
       "    <tr>\n",
       "      <th>10</th>\n",
       "      <td>&lt;vendor_name&gt; &lt;vendor_name&gt; &lt;vendor_name&gt;</td>\n",
       "      <td>TWEEN WATERS INN</td>\n",
       "      <td>'TWEEN WATERS INN</td>\n",
       "      <td>tween waters inn</td>\n",
       "    </tr>\n",
       "    <tr>\n",
       "      <th>11</th>\n",
       "      <td>&lt;vendor_name&gt; &lt;vendor_name&gt; &lt;vendor_name&gt;</td>\n",
       "      <td>TWEEN WATERS RESTAURANT</td>\n",
       "      <td>'TWEEN WATERS INN</td>\n",
       "      <td>tween waters restaurant</td>\n",
       "    </tr>\n",
       "    <tr>\n",
       "      <th>12</th>\n",
       "      <td>&lt;vendor_name&gt; &lt;vendor_name&gt; &lt;phone_number&gt; &lt;st...</td>\n",
       "      <td>02 FITNESS 910-2391202 NC</td>\n",
       "      <td>02 FITNESS</td>\n",
       "      <td>00 fitness 000-0000000 nc</td>\n",
       "    </tr>\n",
       "    <tr>\n",
       "      <th>13</th>\n",
       "      <td>&lt;vendor_name&gt;</td>\n",
       "      <td>#WWW.1AND1.COM</td>\n",
       "      <td>1 &amp; 1 INTERNET</td>\n",
       "      <td>#www.0and0.com</td>\n",
       "    </tr>\n",
       "    <tr>\n",
       "      <th>14</th>\n",
       "      <td>&lt;vendor_name&gt; &lt;phone_number&gt; &lt;state&gt;</td>\n",
       "      <td>#WWW.1AND1.COM 877-4612631 PA</td>\n",
       "      <td>1 &amp; 1 INTERNET</td>\n",
       "      <td>#www.0and0.com 000-0000000 pa</td>\n",
       "    </tr>\n",
       "    <tr>\n",
       "      <th>15</th>\n",
       "      <td>&lt;vendor_name&gt; &lt;other&gt; &lt;city&gt; &lt;state&gt; &lt;constant...</td>\n",
       "      <td>WWW.1AND1.COM - TEL8774612631, PA REFERENCE NU...</td>\n",
       "      <td>1 &amp; 1 INTERNET</td>\n",
       "      <td>www.0and0.com - tel0000000000, pa reference nu...</td>\n",
       "    </tr>\n",
       "    <tr>\n",
       "      <th>17</th>\n",
       "      <td>&lt;pymt_type&gt; &lt;pymt_type&gt; &lt;pymt_type&gt; &lt;unidentif...</td>\n",
       "      <td>SIGNATURE POS DEBIT 0602 PA 06105601589 WWW.1A...</td>\n",
       "      <td>1 &amp; 1 INTERNET</td>\n",
       "      <td>signature pos debit 0000 pa 00000000000 www.0a...</td>\n",
       "    </tr>\n",
       "    <tr>\n",
       "      <th>18</th>\n",
       "      <td>&lt;pymt_type&gt; &lt;other&gt; &lt;vendor_name&gt; &lt;vendor_name&gt;</td>\n",
       "      <td>PURCHASE - WWW.1AND1.COM TEL8774612631PA</td>\n",
       "      <td>1 &amp; 1 INTERNET</td>\n",
       "      <td>purchase - www.0and0.com tel0000000000pa</td>\n",
       "    </tr>\n",
       "    <tr>\n",
       "      <th>19</th>\n",
       "      <td>&lt;pymt_type&gt; &lt;other&gt; &lt;vendor_name&gt; &lt;unidentifie...</td>\n",
       "      <td>PURCHASE - WWW.1AND1.COM 06105601589 PA</td>\n",
       "      <td>1 &amp; 1 INTERNET</td>\n",
       "      <td>purchase - www.0and0.com 00000000000 pa</td>\n",
       "    </tr>\n",
       "  </tbody>\n",
       "</table>\n",
       "</div>"
      ],
      "text/plain": [
       "                                         tag_sequence  \\\n",
       "0   <store_id> <vendor_name> <vendor_name> <city> ...   \n",
       "1   <store_id> <vendor_name> <vendor_name> <city> ...   \n",
       "2   <vendor_name> <vendor_name> <vendor_name> <cit...   \n",
       "3   <vendor_name> <vendor_name> <vendor_name> <ven...   \n",
       "4   <pymt_type> <pymt_type> <pymt_type> <trans_dat...   \n",
       "5   <vendor_name> <vendor_name> <vendor_name> <cit...   \n",
       "8   <vendor_name> <city> <city> <unidentified> <tr...   \n",
       "9   <vendor_name> <vendor_name> <city> <unidentifi...   \n",
       "10          <vendor_name> <vendor_name> <vendor_name>   \n",
       "11          <vendor_name> <vendor_name> <vendor_name>   \n",
       "12  <vendor_name> <vendor_name> <phone_number> <st...   \n",
       "13                                      <vendor_name>   \n",
       "14               <vendor_name> <phone_number> <state>   \n",
       "15  <vendor_name> <other> <city> <state> <constant...   \n",
       "17  <pymt_type> <pymt_type> <pymt_type> <unidentif...   \n",
       "18    <pymt_type> <other> <vendor_name> <vendor_name>   \n",
       "19  <pymt_type> <other> <vendor_name> <unidentifie...   \n",
       "\n",
       "                                 description_unmasked             yodlee_name  \\\n",
       "0            #1 PARTY SUPPLIES MURRIETA CA 8000000000       #1 PARTY SUPPLIES   \n",
       "1            #1 PARTY SUPPLIES MURRIETA CA 8000000000        1 PARTY SUPPLIES   \n",
       "2                   #ANNA'S ITALIAN RESTAU HAMPTON VA  #ANNA'S ITALIAN RESTAU   \n",
       "3                               #SD CITY COLLEGE FOOD   #SD CITY COLLEGE FOOD   \n",
       "4   DEBIT CARD PURCHASE 09/28 03:54P #7751$1.99 DR...         $1.99 DRY CLEAN   \n",
       "5                        $5 JEWELRY SALE SEBASTIAN FL              $5 JEWELRY   \n",
       "8              'OHANA LAKE BUENA 330140309 RESTAURANT                  'OHANA   \n",
       "9        'T KELDERKE BRUXELLES 45348265241 RESTAURANT             'T KELDERKE   \n",
       "10                                   TWEEN WATERS INN       'TWEEN WATERS INN   \n",
       "11                            TWEEN WATERS RESTAURANT       'TWEEN WATERS INN   \n",
       "12                          02 FITNESS 910-2391202 NC              02 FITNESS   \n",
       "13                                     #WWW.1AND1.COM          1 & 1 INTERNET   \n",
       "14                      #WWW.1AND1.COM 877-4612631 PA          1 & 1 INTERNET   \n",
       "15  WWW.1AND1.COM - TEL8774612631, PA REFERENCE NU...          1 & 1 INTERNET   \n",
       "17  SIGNATURE POS DEBIT 0602 PA 06105601589 WWW.1A...          1 & 1 INTERNET   \n",
       "18           PURCHASE - WWW.1AND1.COM TEL8774612631PA          1 & 1 INTERNET   \n",
       "19            PURCHASE - WWW.1AND1.COM 06105601589 PA          1 & 1 INTERNET   \n",
       "\n",
       "                                                 ysgt  \n",
       "0            #0 party supplies murrieta ca 0000000000  \n",
       "1            #0 party supplies murrieta ca 0000000000  \n",
       "2                   #anna's italian restau hampton va  \n",
       "3                               #sd city college food  \n",
       "4   debit card purchase 00/00 00:00p #0000$0.00 dr...  \n",
       "5                        $0 jewelry sale sebastian fl  \n",
       "8              'ohana lake buena 000000000 restaurant  \n",
       "9        't kelderke bruxelles 00000000000 restaurant  \n",
       "10                                   tween waters inn  \n",
       "11                            tween waters restaurant  \n",
       "12                          00 fitness 000-0000000 nc  \n",
       "13                                     #www.0and0.com  \n",
       "14                      #www.0and0.com 000-0000000 pa  \n",
       "15  www.0and0.com - tel0000000000, pa reference nu...  \n",
       "17  signature pos debit 0000 pa 00000000000 www.0a...  \n",
       "18           purchase - www.0and0.com tel0000000000pa  \n",
       "19            purchase - www.0and0.com 00000000000 pa  "
      ]
     },
     "execution_count": 219,
     "metadata": {},
     "output_type": "execute_result"
    }
   ],
   "source": [
    "train_set=set()\n",
    "new_df.filter(items=['tag_sequence', 'ysgt'])\n",
    "f=new_df.dropna()\n",
    "#f.reset_index(drop=True)\n",
    "f"
   ]
  },
  {
   "cell_type": "code",
   "execution_count": null,
   "metadata": {},
   "outputs": [],
   "source": [
    "def find_vendor(x):\n",
    "    \n",
    "    temp=x['tag_sequence'].split(\" \")\n",
    "    temp1= x['ysgt'].split(\" \")\n",
    "#     print (temp)\n",
    "#     print(temp1[1])\n",
    "\n",
    "    if(len(temp)==len(temp1)):\n",
    "        ans=[]\n",
    "        s=\"\"\n",
    "        count=0\n",
    "        for i in range(len(temp)):\n",
    "\n",
    "            if(temp[i]=='<vendor_name>' and count==0):\n",
    "                s=temp1[i]+\" \"\n",
    "                count=1\n",
    "            elif(temp[i]=='<vendor_name>' and count==1):\n",
    "                s=s+temp1[i]+\" \"\n",
    "                count=1\n",
    "            elif(count==1):\n",
    "                s=s[:-1]\n",
    "                ans.append(s)\n",
    "                s=\"\"\n",
    "                count=0\n",
    "        return ans   \n"
   ]
  },
  {
   "cell_type": "code",
   "execution_count": null,
   "metadata": {},
   "outputs": [],
   "source": [
    "train_s=[]\n",
    "#f[f['tag_sequence'].map(len) == f['ysgt'].map(len)]\n",
    "train_s.append(f[['tag_sequence','ysgt']].apply(find_vendor,axis=1))"
   ]
  },
  {
   "cell_type": "code",
   "execution_count": null,
   "metadata": {},
   "outputs": [],
   "source": [
    "train_s"
   ]
  },
  {
   "cell_type": "code",
   "execution_count": null,
   "metadata": {},
   "outputs": [],
   "source": [
    "flat_list = [item for sublist in train_s for item in sublist]"
   ]
  },
  {
   "cell_type": "code",
   "execution_count": null,
   "metadata": {},
   "outputs": [],
   "source": [
    "flat_list\n"
   ]
  },
  {
   "cell_type": "code",
   "execution_count": null,
   "metadata": {},
   "outputs": [],
   "source": [
    "import itertools\n"
   ]
  },
  {
   "cell_type": "code",
   "execution_count": null,
   "metadata": {},
   "outputs": [],
   "source": [
    "train_s = list(itertools.chain(*train_s))"
   ]
  },
  {
   "cell_type": "code",
   "execution_count": null,
   "metadata": {},
   "outputs": [],
   "source": [
    "merged = list(itertools.chain(*train_s))\n",
    "merged"
   ]
  },
  {
   "cell_type": "code",
   "execution_count": null,
   "metadata": {},
   "outputs": [],
   "source": [
    "final_train=set(merged)"
   ]
  },
  {
   "cell_type": "code",
   "execution_count": null,
   "metadata": {},
   "outputs": [],
   "source": [
    "final_train"
   ]
  },
  {
   "cell_type": "code",
   "execution_count": null,
   "metadata": {},
   "outputs": [],
   "source": []
  },
  {
   "cell_type": "code",
   "execution_count": null,
   "metadata": {},
   "outputs": [],
   "source": [
    "from read_json1 import final"
   ]
  }
 ],
 "metadata": {
  "kernelspec": {
   "display_name": "Python 3",
   "language": "python",
   "name": "python3"
  },
  "language_info": {
   "codemirror_mode": {
    "name": "ipython",
    "version": 3
   },
   "file_extension": ".py",
   "mimetype": "text/x-python",
   "name": "python",
   "nbconvert_exporter": "python",
   "pygments_lexer": "ipython3",
   "version": "3.6.4"
  }
 },
 "nbformat": 4,
 "nbformat_minor": 2
}
